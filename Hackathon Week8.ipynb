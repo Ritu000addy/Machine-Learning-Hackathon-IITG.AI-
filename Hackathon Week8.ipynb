{
 "cells": [
  {
   "cell_type": "markdown",
   "metadata": {},
   "source": [
    "The task is to predict a target variable named TARGET which contain binary values (0 and 1)"
   ]
  },
  {
   "cell_type": "code",
   "execution_count": 193,
   "metadata": {},
   "outputs": [],
   "source": [
    "import numpy as np\n",
    "import pandas as pd\n",
    "import matplotlib.pyplot as plt\n",
    "%matplotlib inline\n",
    "\n",
    "import warnings\n",
    "warnings.filterwarnings(\"ignore\")"
   ]
  },
  {
   "cell_type": "code",
   "execution_count": 194,
   "metadata": {},
   "outputs": [
    {
     "data": {
      "text/html": [
       "<div>\n",
       "<style scoped>\n",
       "    .dataframe tbody tr th:only-of-type {\n",
       "        vertical-align: middle;\n",
       "    }\n",
       "\n",
       "    .dataframe tbody tr th {\n",
       "        vertical-align: top;\n",
       "    }\n",
       "\n",
       "    .dataframe thead th {\n",
       "        text-align: right;\n",
       "    }\n",
       "</style>\n",
       "<table border=\"1\" class=\"dataframe\">\n",
       "  <thead>\n",
       "    <tr style=\"text-align: right;\">\n",
       "      <th></th>\n",
       "      <th>id</th>\n",
       "      <th>PARTY_ID</th>\n",
       "      <th>V_1</th>\n",
       "      <th>V_2</th>\n",
       "      <th>V_3</th>\n",
       "      <th>V_4</th>\n",
       "      <th>V_5</th>\n",
       "      <th>V_6</th>\n",
       "      <th>V_7</th>\n",
       "      <th>V_8</th>\n",
       "      <th>...</th>\n",
       "      <th>V_474</th>\n",
       "      <th>V_475</th>\n",
       "      <th>V_476</th>\n",
       "      <th>V_477</th>\n",
       "      <th>V_478</th>\n",
       "      <th>V_479</th>\n",
       "      <th>V_480</th>\n",
       "      <th>V_481</th>\n",
       "      <th>V_482</th>\n",
       "      <th>TARGET</th>\n",
       "    </tr>\n",
       "  </thead>\n",
       "  <tbody>\n",
       "    <tr>\n",
       "      <th>0</th>\n",
       "      <td>0</td>\n",
       "      <td>NaN</td>\n",
       "      <td>0</td>\n",
       "      <td>0</td>\n",
       "      <td>0</td>\n",
       "      <td>0</td>\n",
       "      <td>0</td>\n",
       "      <td>0</td>\n",
       "      <td>0</td>\n",
       "      <td>0</td>\n",
       "      <td>...</td>\n",
       "      <td>0</td>\n",
       "      <td>0</td>\n",
       "      <td>0</td>\n",
       "      <td>0</td>\n",
       "      <td>1</td>\n",
       "      <td>0</td>\n",
       "      <td>0.000000</td>\n",
       "      <td>0.0</td>\n",
       "      <td>0.0</td>\n",
       "      <td>0</td>\n",
       "    </tr>\n",
       "    <tr>\n",
       "      <th>1</th>\n",
       "      <td>1</td>\n",
       "      <td>NaN</td>\n",
       "      <td>0</td>\n",
       "      <td>0</td>\n",
       "      <td>0</td>\n",
       "      <td>0</td>\n",
       "      <td>0</td>\n",
       "      <td>0</td>\n",
       "      <td>0</td>\n",
       "      <td>0</td>\n",
       "      <td>...</td>\n",
       "      <td>0</td>\n",
       "      <td>0</td>\n",
       "      <td>0</td>\n",
       "      <td>0</td>\n",
       "      <td>0</td>\n",
       "      <td>2</td>\n",
       "      <td>26.010373</td>\n",
       "      <td>0.0</td>\n",
       "      <td>0.0</td>\n",
       "      <td>0</td>\n",
       "    </tr>\n",
       "    <tr>\n",
       "      <th>2</th>\n",
       "      <td>2</td>\n",
       "      <td>NaN</td>\n",
       "      <td>0</td>\n",
       "      <td>0</td>\n",
       "      <td>0</td>\n",
       "      <td>0</td>\n",
       "      <td>0</td>\n",
       "      <td>0</td>\n",
       "      <td>0</td>\n",
       "      <td>0</td>\n",
       "      <td>...</td>\n",
       "      <td>0</td>\n",
       "      <td>0</td>\n",
       "      <td>0</td>\n",
       "      <td>0</td>\n",
       "      <td>1</td>\n",
       "      <td>0</td>\n",
       "      <td>2248.357090</td>\n",
       "      <td>0.0</td>\n",
       "      <td>0.0</td>\n",
       "      <td>1</td>\n",
       "    </tr>\n",
       "    <tr>\n",
       "      <th>3</th>\n",
       "      <td>3</td>\n",
       "      <td>NaN</td>\n",
       "      <td>0</td>\n",
       "      <td>0</td>\n",
       "      <td>0</td>\n",
       "      <td>0</td>\n",
       "      <td>2</td>\n",
       "      <td>0</td>\n",
       "      <td>0</td>\n",
       "      <td>0</td>\n",
       "      <td>...</td>\n",
       "      <td>0</td>\n",
       "      <td>0</td>\n",
       "      <td>0</td>\n",
       "      <td>0</td>\n",
       "      <td>0</td>\n",
       "      <td>0</td>\n",
       "      <td>2285.146561</td>\n",
       "      <td>0.0</td>\n",
       "      <td>0.0</td>\n",
       "      <td>0</td>\n",
       "    </tr>\n",
       "    <tr>\n",
       "      <th>4</th>\n",
       "      <td>4</td>\n",
       "      <td>NaN</td>\n",
       "      <td>0</td>\n",
       "      <td>0</td>\n",
       "      <td>0</td>\n",
       "      <td>0</td>\n",
       "      <td>0</td>\n",
       "      <td>0</td>\n",
       "      <td>0</td>\n",
       "      <td>0</td>\n",
       "      <td>...</td>\n",
       "      <td>0</td>\n",
       "      <td>0</td>\n",
       "      <td>0</td>\n",
       "      <td>0</td>\n",
       "      <td>0</td>\n",
       "      <td>0</td>\n",
       "      <td>98.395599</td>\n",
       "      <td>0.0</td>\n",
       "      <td>0.0</td>\n",
       "      <td>0</td>\n",
       "    </tr>\n",
       "  </tbody>\n",
       "</table>\n",
       "<p>5 rows × 483 columns</p>\n",
       "</div>"
      ],
      "text/plain": [
       "   id  PARTY_ID  V_1  V_2  V_3  V_4  V_5  V_6  V_7  V_8  ...  V_474  V_475  \\\n",
       "0   0       NaN    0    0    0    0    0    0    0    0  ...      0      0   \n",
       "1   1       NaN    0    0    0    0    0    0    0    0  ...      0      0   \n",
       "2   2       NaN    0    0    0    0    0    0    0    0  ...      0      0   \n",
       "3   3       NaN    0    0    0    0    2    0    0    0  ...      0      0   \n",
       "4   4       NaN    0    0    0    0    0    0    0    0  ...      0      0   \n",
       "\n",
       "   V_476  V_477  V_478  V_479        V_480  V_481  V_482  TARGET  \n",
       "0      0      0      1      0     0.000000    0.0    0.0       0  \n",
       "1      0      0      0      2    26.010373    0.0    0.0       0  \n",
       "2      0      0      1      0  2248.357090    0.0    0.0       1  \n",
       "3      0      0      0      0  2285.146561    0.0    0.0       0  \n",
       "4      0      0      0      0    98.395599    0.0    0.0       0  \n",
       "\n",
       "[5 rows x 483 columns]"
      ]
     },
     "execution_count": 194,
     "metadata": {},
     "output_type": "execute_result"
    }
   ],
   "source": [
    "df = pd.read_csv(\"Week8_train.csv\")\n",
    "df.head()"
   ]
  },
  {
   "cell_type": "code",
   "execution_count": 195,
   "metadata": {},
   "outputs": [
    {
     "data": {
      "text/html": [
       "<div>\n",
       "<style scoped>\n",
       "    .dataframe tbody tr th:only-of-type {\n",
       "        vertical-align: middle;\n",
       "    }\n",
       "\n",
       "    .dataframe tbody tr th {\n",
       "        vertical-align: top;\n",
       "    }\n",
       "\n",
       "    .dataframe thead th {\n",
       "        text-align: right;\n",
       "    }\n",
       "</style>\n",
       "<table border=\"1\" class=\"dataframe\">\n",
       "  <thead>\n",
       "    <tr style=\"text-align: right;\">\n",
       "      <th></th>\n",
       "      <th>id</th>\n",
       "      <th>PARTY_ID</th>\n",
       "      <th>V_1</th>\n",
       "      <th>V_2</th>\n",
       "      <th>V_3</th>\n",
       "      <th>V_4</th>\n",
       "      <th>V_5</th>\n",
       "      <th>V_6</th>\n",
       "      <th>V_7</th>\n",
       "      <th>V_8</th>\n",
       "      <th>...</th>\n",
       "      <th>V_474</th>\n",
       "      <th>V_475</th>\n",
       "      <th>V_476</th>\n",
       "      <th>V_477</th>\n",
       "      <th>V_478</th>\n",
       "      <th>V_479</th>\n",
       "      <th>V_480</th>\n",
       "      <th>V_481</th>\n",
       "      <th>V_482</th>\n",
       "      <th>TARGET</th>\n",
       "    </tr>\n",
       "  </thead>\n",
       "  <tbody>\n",
       "    <tr>\n",
       "      <th>count</th>\n",
       "      <td>110899.000000</td>\n",
       "      <td>0.0</td>\n",
       "      <td>110899.000000</td>\n",
       "      <td>110899.000000</td>\n",
       "      <td>110899.000000</td>\n",
       "      <td>110899.000000</td>\n",
       "      <td>110899.000000</td>\n",
       "      <td>110899.000000</td>\n",
       "      <td>110899.000000</td>\n",
       "      <td>110899.000000</td>\n",
       "      <td>...</td>\n",
       "      <td>110899.000000</td>\n",
       "      <td>110899.000000</td>\n",
       "      <td>110899.000000</td>\n",
       "      <td>110899.000000</td>\n",
       "      <td>110899.000000</td>\n",
       "      <td>110899.000000</td>\n",
       "      <td>110899.000000</td>\n",
       "      <td>110899.000000</td>\n",
       "      <td>110899.000000</td>\n",
       "      <td>110899.000000</td>\n",
       "    </tr>\n",
       "    <tr>\n",
       "      <th>mean</th>\n",
       "      <td>55449.000000</td>\n",
       "      <td>NaN</td>\n",
       "      <td>0.002570</td>\n",
       "      <td>0.022931</td>\n",
       "      <td>0.007791</td>\n",
       "      <td>0.011425</td>\n",
       "      <td>1.235052</td>\n",
       "      <td>0.000090</td>\n",
       "      <td>0.061867</td>\n",
       "      <td>0.372077</td>\n",
       "      <td>...</td>\n",
       "      <td>0.005293</td>\n",
       "      <td>0.002173</td>\n",
       "      <td>0.015834</td>\n",
       "      <td>0.015401</td>\n",
       "      <td>0.793271</td>\n",
       "      <td>0.049928</td>\n",
       "      <td>980.660380</td>\n",
       "      <td>183.764786</td>\n",
       "      <td>59.324373</td>\n",
       "      <td>0.194159</td>\n",
       "    </tr>\n",
       "    <tr>\n",
       "      <th>std</th>\n",
       "      <td>32013.928089</td>\n",
       "      <td>NaN</td>\n",
       "      <td>0.058249</td>\n",
       "      <td>0.230278</td>\n",
       "      <td>0.110874</td>\n",
       "      <td>0.107624</td>\n",
       "      <td>2.991882</td>\n",
       "      <td>0.009496</td>\n",
       "      <td>0.304915</td>\n",
       "      <td>1.212413</td>\n",
       "      <td>...</td>\n",
       "      <td>0.082778</td>\n",
       "      <td>0.051003</td>\n",
       "      <td>0.148823</td>\n",
       "      <td>0.193999</td>\n",
       "      <td>1.785113</td>\n",
       "      <td>0.348936</td>\n",
       "      <td>3488.097963</td>\n",
       "      <td>2053.530911</td>\n",
       "      <td>2713.893234</td>\n",
       "      <td>0.395553</td>\n",
       "    </tr>\n",
       "    <tr>\n",
       "      <th>min</th>\n",
       "      <td>0.000000</td>\n",
       "      <td>NaN</td>\n",
       "      <td>0.000000</td>\n",
       "      <td>0.000000</td>\n",
       "      <td>0.000000</td>\n",
       "      <td>0.000000</td>\n",
       "      <td>0.000000</td>\n",
       "      <td>0.000000</td>\n",
       "      <td>0.000000</td>\n",
       "      <td>0.000000</td>\n",
       "      <td>...</td>\n",
       "      <td>0.000000</td>\n",
       "      <td>0.000000</td>\n",
       "      <td>0.000000</td>\n",
       "      <td>0.000000</td>\n",
       "      <td>0.000000</td>\n",
       "      <td>0.000000</td>\n",
       "      <td>0.000000</td>\n",
       "      <td>0.000000</td>\n",
       "      <td>0.000000</td>\n",
       "      <td>0.000000</td>\n",
       "    </tr>\n",
       "    <tr>\n",
       "      <th>25%</th>\n",
       "      <td>27724.500000</td>\n",
       "      <td>NaN</td>\n",
       "      <td>0.000000</td>\n",
       "      <td>0.000000</td>\n",
       "      <td>0.000000</td>\n",
       "      <td>0.000000</td>\n",
       "      <td>0.000000</td>\n",
       "      <td>0.000000</td>\n",
       "      <td>0.000000</td>\n",
       "      <td>0.000000</td>\n",
       "      <td>...</td>\n",
       "      <td>0.000000</td>\n",
       "      <td>0.000000</td>\n",
       "      <td>0.000000</td>\n",
       "      <td>0.000000</td>\n",
       "      <td>0.000000</td>\n",
       "      <td>0.000000</td>\n",
       "      <td>0.000000</td>\n",
       "      <td>0.000000</td>\n",
       "      <td>0.000000</td>\n",
       "      <td>0.000000</td>\n",
       "    </tr>\n",
       "    <tr>\n",
       "      <th>50%</th>\n",
       "      <td>55449.000000</td>\n",
       "      <td>NaN</td>\n",
       "      <td>0.000000</td>\n",
       "      <td>0.000000</td>\n",
       "      <td>0.000000</td>\n",
       "      <td>0.000000</td>\n",
       "      <td>0.000000</td>\n",
       "      <td>0.000000</td>\n",
       "      <td>0.000000</td>\n",
       "      <td>0.000000</td>\n",
       "      <td>...</td>\n",
       "      <td>0.000000</td>\n",
       "      <td>0.000000</td>\n",
       "      <td>0.000000</td>\n",
       "      <td>0.000000</td>\n",
       "      <td>0.000000</td>\n",
       "      <td>0.000000</td>\n",
       "      <td>0.000000</td>\n",
       "      <td>0.000000</td>\n",
       "      <td>0.000000</td>\n",
       "      <td>0.000000</td>\n",
       "    </tr>\n",
       "    <tr>\n",
       "      <th>75%</th>\n",
       "      <td>83173.500000</td>\n",
       "      <td>NaN</td>\n",
       "      <td>0.000000</td>\n",
       "      <td>0.000000</td>\n",
       "      <td>0.000000</td>\n",
       "      <td>0.000000</td>\n",
       "      <td>1.000000</td>\n",
       "      <td>0.000000</td>\n",
       "      <td>0.000000</td>\n",
       "      <td>0.000000</td>\n",
       "      <td>...</td>\n",
       "      <td>0.000000</td>\n",
       "      <td>0.000000</td>\n",
       "      <td>0.000000</td>\n",
       "      <td>0.000000</td>\n",
       "      <td>1.000000</td>\n",
       "      <td>0.000000</td>\n",
       "      <td>1069.611493</td>\n",
       "      <td>0.000000</td>\n",
       "      <td>0.000000</td>\n",
       "      <td>0.000000</td>\n",
       "    </tr>\n",
       "    <tr>\n",
       "      <th>max</th>\n",
       "      <td>110898.000000</td>\n",
       "      <td>NaN</td>\n",
       "      <td>7.000000</td>\n",
       "      <td>36.000000</td>\n",
       "      <td>6.000000</td>\n",
       "      <td>3.000000</td>\n",
       "      <td>224.000000</td>\n",
       "      <td>1.000000</td>\n",
       "      <td>7.000000</td>\n",
       "      <td>71.000000</td>\n",
       "      <td>...</td>\n",
       "      <td>11.000000</td>\n",
       "      <td>5.000000</td>\n",
       "      <td>6.000000</td>\n",
       "      <td>11.000000</td>\n",
       "      <td>41.000000</td>\n",
       "      <td>23.000000</td>\n",
       "      <td>382407.611200</td>\n",
       "      <td>213450.998200</td>\n",
       "      <td>308597.646000</td>\n",
       "      <td>1.000000</td>\n",
       "    </tr>\n",
       "  </tbody>\n",
       "</table>\n",
       "<p>8 rows × 475 columns</p>\n",
       "</div>"
      ],
      "text/plain": [
       "                  id  PARTY_ID            V_1            V_2            V_3  \\\n",
       "count  110899.000000       0.0  110899.000000  110899.000000  110899.000000   \n",
       "mean    55449.000000       NaN       0.002570       0.022931       0.007791   \n",
       "std     32013.928089       NaN       0.058249       0.230278       0.110874   \n",
       "min         0.000000       NaN       0.000000       0.000000       0.000000   \n",
       "25%     27724.500000       NaN       0.000000       0.000000       0.000000   \n",
       "50%     55449.000000       NaN       0.000000       0.000000       0.000000   \n",
       "75%     83173.500000       NaN       0.000000       0.000000       0.000000   \n",
       "max    110898.000000       NaN       7.000000      36.000000       6.000000   \n",
       "\n",
       "                 V_4            V_5            V_6            V_7  \\\n",
       "count  110899.000000  110899.000000  110899.000000  110899.000000   \n",
       "mean        0.011425       1.235052       0.000090       0.061867   \n",
       "std         0.107624       2.991882       0.009496       0.304915   \n",
       "min         0.000000       0.000000       0.000000       0.000000   \n",
       "25%         0.000000       0.000000       0.000000       0.000000   \n",
       "50%         0.000000       0.000000       0.000000       0.000000   \n",
       "75%         0.000000       1.000000       0.000000       0.000000   \n",
       "max         3.000000     224.000000       1.000000       7.000000   \n",
       "\n",
       "                 V_8  ...          V_474          V_475          V_476  \\\n",
       "count  110899.000000  ...  110899.000000  110899.000000  110899.000000   \n",
       "mean        0.372077  ...       0.005293       0.002173       0.015834   \n",
       "std         1.212413  ...       0.082778       0.051003       0.148823   \n",
       "min         0.000000  ...       0.000000       0.000000       0.000000   \n",
       "25%         0.000000  ...       0.000000       0.000000       0.000000   \n",
       "50%         0.000000  ...       0.000000       0.000000       0.000000   \n",
       "75%         0.000000  ...       0.000000       0.000000       0.000000   \n",
       "max        71.000000  ...      11.000000       5.000000       6.000000   \n",
       "\n",
       "               V_477          V_478          V_479          V_480  \\\n",
       "count  110899.000000  110899.000000  110899.000000  110899.000000   \n",
       "mean        0.015401       0.793271       0.049928     980.660380   \n",
       "std         0.193999       1.785113       0.348936    3488.097963   \n",
       "min         0.000000       0.000000       0.000000       0.000000   \n",
       "25%         0.000000       0.000000       0.000000       0.000000   \n",
       "50%         0.000000       0.000000       0.000000       0.000000   \n",
       "75%         0.000000       1.000000       0.000000    1069.611493   \n",
       "max        11.000000      41.000000      23.000000  382407.611200   \n",
       "\n",
       "               V_481          V_482         TARGET  \n",
       "count  110899.000000  110899.000000  110899.000000  \n",
       "mean      183.764786      59.324373       0.194159  \n",
       "std      2053.530911    2713.893234       0.395553  \n",
       "min         0.000000       0.000000       0.000000  \n",
       "25%         0.000000       0.000000       0.000000  \n",
       "50%         0.000000       0.000000       0.000000  \n",
       "75%         0.000000       0.000000       0.000000  \n",
       "max    213450.998200  308597.646000       1.000000  \n",
       "\n",
       "[8 rows x 475 columns]"
      ]
     },
     "execution_count": 195,
     "metadata": {},
     "output_type": "execute_result"
    }
   ],
   "source": [
    "df.describe()"
   ]
  },
  {
   "cell_type": "code",
   "execution_count": 196,
   "metadata": {},
   "outputs": [],
   "source": [
    "missing_value = df.isnull().sum()"
   ]
  },
  {
   "cell_type": "code",
   "execution_count": 197,
   "metadata": {},
   "outputs": [
    {
     "name": "stdout",
     "output_type": "stream",
     "text": [
      "PARTY_ID    110899\n",
      "V_301         6331\n",
      "V_304         1561\n",
      "V_434         6335\n",
      "dtype: int64\n"
     ]
    }
   ],
   "source": [
    "print(missing_value[missing_value>0])"
   ]
  },
  {
   "cell_type": "code",
   "execution_count": 198,
   "metadata": {},
   "outputs": [
    {
     "data": {
      "text/html": [
       "<div>\n",
       "<style scoped>\n",
       "    .dataframe tbody tr th:only-of-type {\n",
       "        vertical-align: middle;\n",
       "    }\n",
       "\n",
       "    .dataframe tbody tr th {\n",
       "        vertical-align: top;\n",
       "    }\n",
       "\n",
       "    .dataframe thead th {\n",
       "        text-align: right;\n",
       "    }\n",
       "</style>\n",
       "<table border=\"1\" class=\"dataframe\">\n",
       "  <thead>\n",
       "    <tr style=\"text-align: right;\">\n",
       "      <th></th>\n",
       "      <th>id</th>\n",
       "      <th>PARTY_ID</th>\n",
       "      <th>V_1</th>\n",
       "      <th>V_2</th>\n",
       "      <th>V_3</th>\n",
       "      <th>V_4</th>\n",
       "      <th>V_5</th>\n",
       "      <th>V_6</th>\n",
       "      <th>V_7</th>\n",
       "      <th>V_8</th>\n",
       "      <th>...</th>\n",
       "      <th>V_473</th>\n",
       "      <th>V_474</th>\n",
       "      <th>V_475</th>\n",
       "      <th>V_476</th>\n",
       "      <th>V_477</th>\n",
       "      <th>V_478</th>\n",
       "      <th>V_479</th>\n",
       "      <th>V_480</th>\n",
       "      <th>V_481</th>\n",
       "      <th>V_482</th>\n",
       "    </tr>\n",
       "  </thead>\n",
       "  <tbody>\n",
       "    <tr>\n",
       "      <th>0</th>\n",
       "      <td>0</td>\n",
       "      <td>NaN</td>\n",
       "      <td>0</td>\n",
       "      <td>0</td>\n",
       "      <td>0</td>\n",
       "      <td>0</td>\n",
       "      <td>0</td>\n",
       "      <td>0</td>\n",
       "      <td>0</td>\n",
       "      <td>0</td>\n",
       "      <td>...</td>\n",
       "      <td>0</td>\n",
       "      <td>0</td>\n",
       "      <td>0</td>\n",
       "      <td>0</td>\n",
       "      <td>0</td>\n",
       "      <td>0</td>\n",
       "      <td>0</td>\n",
       "      <td>1138.896309</td>\n",
       "      <td>0.0</td>\n",
       "      <td>0.0</td>\n",
       "    </tr>\n",
       "    <tr>\n",
       "      <th>1</th>\n",
       "      <td>1</td>\n",
       "      <td>NaN</td>\n",
       "      <td>0</td>\n",
       "      <td>0</td>\n",
       "      <td>0</td>\n",
       "      <td>0</td>\n",
       "      <td>0</td>\n",
       "      <td>0</td>\n",
       "      <td>0</td>\n",
       "      <td>0</td>\n",
       "      <td>...</td>\n",
       "      <td>0</td>\n",
       "      <td>0</td>\n",
       "      <td>0</td>\n",
       "      <td>0</td>\n",
       "      <td>0</td>\n",
       "      <td>0</td>\n",
       "      <td>0</td>\n",
       "      <td>0.000000</td>\n",
       "      <td>0.0</td>\n",
       "      <td>0.0</td>\n",
       "    </tr>\n",
       "    <tr>\n",
       "      <th>2</th>\n",
       "      <td>2</td>\n",
       "      <td>NaN</td>\n",
       "      <td>0</td>\n",
       "      <td>0</td>\n",
       "      <td>0</td>\n",
       "      <td>0</td>\n",
       "      <td>0</td>\n",
       "      <td>0</td>\n",
       "      <td>0</td>\n",
       "      <td>0</td>\n",
       "      <td>...</td>\n",
       "      <td>0</td>\n",
       "      <td>0</td>\n",
       "      <td>0</td>\n",
       "      <td>0</td>\n",
       "      <td>0</td>\n",
       "      <td>0</td>\n",
       "      <td>0</td>\n",
       "      <td>0.000000</td>\n",
       "      <td>0.0</td>\n",
       "      <td>0.0</td>\n",
       "    </tr>\n",
       "    <tr>\n",
       "      <th>3</th>\n",
       "      <td>3</td>\n",
       "      <td>NaN</td>\n",
       "      <td>0</td>\n",
       "      <td>0</td>\n",
       "      <td>0</td>\n",
       "      <td>0</td>\n",
       "      <td>0</td>\n",
       "      <td>0</td>\n",
       "      <td>0</td>\n",
       "      <td>0</td>\n",
       "      <td>...</td>\n",
       "      <td>0</td>\n",
       "      <td>0</td>\n",
       "      <td>0</td>\n",
       "      <td>1</td>\n",
       "      <td>0</td>\n",
       "      <td>0</td>\n",
       "      <td>0</td>\n",
       "      <td>811.539006</td>\n",
       "      <td>0.0</td>\n",
       "      <td>0.0</td>\n",
       "    </tr>\n",
       "    <tr>\n",
       "      <th>4</th>\n",
       "      <td>4</td>\n",
       "      <td>NaN</td>\n",
       "      <td>0</td>\n",
       "      <td>0</td>\n",
       "      <td>0</td>\n",
       "      <td>0</td>\n",
       "      <td>1</td>\n",
       "      <td>0</td>\n",
       "      <td>0</td>\n",
       "      <td>0</td>\n",
       "      <td>...</td>\n",
       "      <td>0</td>\n",
       "      <td>0</td>\n",
       "      <td>0</td>\n",
       "      <td>0</td>\n",
       "      <td>0</td>\n",
       "      <td>0</td>\n",
       "      <td>0</td>\n",
       "      <td>0.000000</td>\n",
       "      <td>0.0</td>\n",
       "      <td>0.0</td>\n",
       "    </tr>\n",
       "  </tbody>\n",
       "</table>\n",
       "<p>5 rows × 482 columns</p>\n",
       "</div>"
      ],
      "text/plain": [
       "   id  PARTY_ID  V_1  V_2  V_3  V_4  V_5  V_6  V_7  V_8  ...  V_473  V_474  \\\n",
       "0   0       NaN    0    0    0    0    0    0    0    0  ...      0      0   \n",
       "1   1       NaN    0    0    0    0    0    0    0    0  ...      0      0   \n",
       "2   2       NaN    0    0    0    0    0    0    0    0  ...      0      0   \n",
       "3   3       NaN    0    0    0    0    0    0    0    0  ...      0      0   \n",
       "4   4       NaN    0    0    0    0    1    0    0    0  ...      0      0   \n",
       "\n",
       "   V_475  V_476  V_477  V_478  V_479        V_480  V_481  V_482  \n",
       "0      0      0      0      0      0  1138.896309    0.0    0.0  \n",
       "1      0      0      0      0      0     0.000000    0.0    0.0  \n",
       "2      0      0      0      0      0     0.000000    0.0    0.0  \n",
       "3      0      1      0      0      0   811.539006    0.0    0.0  \n",
       "4      0      0      0      0      0     0.000000    0.0    0.0  \n",
       "\n",
       "[5 rows x 482 columns]"
      ]
     },
     "execution_count": 198,
     "metadata": {},
     "output_type": "execute_result"
    }
   ],
   "source": [
    "df_t = pd.read_csv(\"Week8_test.csv\")\n",
    "df_t.head()"
   ]
  },
  {
   "cell_type": "code",
   "execution_count": 199,
   "metadata": {},
   "outputs": [
    {
     "data": {
      "image/png": "[encoded data removed]",
      "text/plain": [
       "<Figure size 432x288 with 1 Axes>"
      ]
     },
     "metadata": {
      "needs_background": "light"
     },
     "output_type": "display_data"
    }
   ],
   "source": [
    "import seaborn as sns\n",
    "#fig, axs = plt.subplots(1,1,figsize = (10,5))\n",
    "plt1 = sns.boxplot(df.V_480)\n",
    "#plt1 = sns.boxplot(df.V_479)"
   ]
  },
  {
   "cell_type": "code",
   "execution_count": 200,
   "metadata": {},
   "outputs": [
    {
     "data": {
      "image/png": "[encoded data removed]",
      "text/plain": [
       "<Figure size 432x288 with 1 Axes>"
      ]
     },
     "metadata": {
      "needs_background": "light"
     },
     "output_type": "display_data"
    }
   ],
   "source": [
    "plt2 = sns.boxplot(df.V_5)"
   ]
  },
  {
   "cell_type": "code",
   "execution_count": 201,
   "metadata": {},
   "outputs": [
    {
     "data": {
      "image/png": "[encoded data removed]",
      "text/plain": [
       "<Figure size 432x288 with 1 Axes>"
      ]
     },
     "metadata": {
      "needs_background": "light"
     },
     "output_type": "display_data"
    }
   ],
   "source": [
    "plt3 = sns.boxplot(df.V_482)"
   ]
  },
  {
   "cell_type": "code",
   "execution_count": 202,
   "metadata": {},
   "outputs": [],
   "source": [
    "cols = [\"V_5\", \"V_482\"]\n",
    "q1 = df[cols].quantile(0.25)\n",
    "q3 = df[cols].quantile(0.75)\n",
    "iqr_col = q3 - q1\n",
    "lwr = q1 - 1.5*iqr_col\n",
    "upr = q3 - 1.5*iqr_col\n",
    "df_new = df[(df[cols]>=lwr) & (df[cols]<=upr)]"
   ]
  },
  {
   "cell_type": "code",
   "execution_count": 203,
   "metadata": {},
   "outputs": [],
   "source": [
    "Q1 = df.V_480.quantile(0.25)\n",
    "Q3 = df.V_480.quantile(0.75)\n",
    "iqr = Q3 - Q1\n",
    "low = Q1 - 1.5*iqr\n",
    "upp = Q3 + 1.5*iqr\n",
    "df = df[(df.V_480 >= low) & (df.V_480 <= upp)]"
   ]
  },
  {
   "cell_type": "code",
   "execution_count": 204,
   "metadata": {},
   "outputs": [
    {
     "data": {
      "image/png": "[encoded data removed]",
      "text/plain": [
       "<Figure size 432x288 with 1 Axes>"
      ]
     },
     "metadata": {
      "needs_background": "light"
     },
     "output_type": "display_data"
    }
   ],
   "source": [
    "plt4 = sns.boxplot(df_new.V_5)"
   ]
  },
  {
   "cell_type": "code",
   "execution_count": 205,
   "metadata": {},
   "outputs": [
    {
     "data": {
      "image/png": "[encoded data removed]",
      "text/plain": [
       "<Figure size 432x288 with 1 Axes>"
      ]
     },
     "metadata": {
      "needs_background": "light"
     },
     "output_type": "display_data"
    }
   ],
   "source": [
    "plt5 = sns.boxplot(df_new.V_482)"
   ]
  },
  {
   "cell_type": "code",
   "execution_count": 206,
   "metadata": {},
   "outputs": [
    {
     "data": {
      "image/png": "[encoded data removed]",
      "text/plain": [
       "<Figure size 432x288 with 1 Axes>"
      ]
     },
     "metadata": {
      "needs_background": "light"
     },
     "output_type": "display_data"
    }
   ],
   "source": [
    "plt1 = sns.boxplot(df.V_480)"
   ]
  },
  {
   "cell_type": "code",
   "execution_count": 207,
   "metadata": {},
   "outputs": [],
   "source": [
    "missing_value_t = df_t.isnull().sum()"
   ]
  },
  {
   "cell_type": "code",
   "execution_count": 208,
   "metadata": {},
   "outputs": [
    {
     "name": "stdout",
     "output_type": "stream",
     "text": [
      "PARTY_ID    110899\n",
      "V_301         6205\n",
      "V_304         1454\n",
      "V_434         6335\n",
      "dtype: int64\n"
     ]
    }
   ],
   "source": [
    "print(missing_value_t[missing_value_t>0])"
   ]
  },
  {
   "cell_type": "code",
   "execution_count": 209,
   "metadata": {},
   "outputs": [],
   "source": [
    "df.drop(\"PARTY_ID\", axis = 1, inplace= True)"
   ]
  },
  {
   "cell_type": "code",
   "execution_count": 210,
   "metadata": {},
   "outputs": [],
   "source": [
    "df_t.drop(\"PARTY_ID\", axis = 1, inplace= True)"
   ]
  },
  {
   "cell_type": "code",
   "execution_count": 211,
   "metadata": {},
   "outputs": [],
   "source": [
    "df['V_301'].fillna(df['V_301'].mode()[0], inplace= True)\n",
    "df['V_304'].fillna(df['V_304'].mode()[0], inplace= True)\n",
    "df['V_434'].fillna(df['V_434'].mode()[0], inplace= True)"
   ]
  },
  {
   "cell_type": "code",
   "execution_count": 212,
   "metadata": {},
   "outputs": [
    {
     "data": {
      "text/plain": [
       "Index([], dtype='object')"
      ]
     },
     "execution_count": 212,
     "metadata": {},
     "output_type": "execute_result"
    }
   ],
   "source": [
    "df.columns[df.isna().any()]"
   ]
  },
  {
   "cell_type": "code",
   "execution_count": 213,
   "metadata": {},
   "outputs": [
    {
     "data": {
      "text/plain": [
       "3"
      ]
     },
     "execution_count": 213,
     "metadata": {},
     "output_type": "execute_result"
    }
   ],
   "source": [
    "df_t.isnull().any().sum()"
   ]
  },
  {
   "cell_type": "code",
   "execution_count": 214,
   "metadata": {},
   "outputs": [
    {
     "data": {
      "text/plain": [
       "Index(['V_301', 'V_304', 'V_434'], dtype='object')"
      ]
     },
     "execution_count": 214,
     "metadata": {},
     "output_type": "execute_result"
    }
   ],
   "source": [
    "df_t.columns[df_t.isna().any()]"
   ]
  },
  {
   "cell_type": "code",
   "execution_count": 215,
   "metadata": {},
   "outputs": [],
   "source": [
    "df_t['V_301'].fillna(df_t['V_301'].mode()[0], inplace= True)\n",
    "df_t['V_304'].fillna(df_t['V_304'].mode()[0], inplace= True)\n",
    "df_t['V_434'].fillna(df_t['V_434'].mode()[0], inplace= True)"
   ]
  },
  {
   "cell_type": "code",
   "execution_count": 216,
   "metadata": {},
   "outputs": [
    {
     "data": {
      "text/plain": [
       "Index([], dtype='object')"
      ]
     },
     "execution_count": 216,
     "metadata": {},
     "output_type": "execute_result"
    }
   ],
   "source": [
    "df_t.columns[df_t.isna().any()]"
   ]
  },
  {
   "cell_type": "code",
   "execution_count": 217,
   "metadata": {},
   "outputs": [
    {
     "data": {
      "text/plain": [
       "(100024, 482)"
      ]
     },
     "execution_count": 217,
     "metadata": {},
     "output_type": "execute_result"
    }
   ],
   "source": [
    "df.shape"
   ]
  },
  {
   "cell_type": "code",
   "execution_count": 218,
   "metadata": {},
   "outputs": [
    {
     "data": {
      "text/plain": [
       "(110899, 481)"
      ]
     },
     "execution_count": 218,
     "metadata": {},
     "output_type": "execute_result"
    }
   ],
   "source": [
    "df_t.shape"
   ]
  },
  {
   "cell_type": "code",
   "execution_count": 219,
   "metadata": {},
   "outputs": [
    {
     "data": {
      "text/plain": [
       "V_245    object\n",
       "V_271    object\n",
       "V_301    object\n",
       "V_304    object\n",
       "V_316    object\n",
       "V_400    object\n",
       "V_410    object\n",
       "V_434    object\n",
       "dtype: object"
      ]
     },
     "execution_count": 219,
     "metadata": {},
     "output_type": "execute_result"
    }
   ],
   "source": [
    "df.dtypes[df.dtypes == 'object']"
   ]
  },
  {
   "cell_type": "code",
   "execution_count": 220,
   "metadata": {},
   "outputs": [
    {
     "data": {
      "text/plain": [
       "V_245    object\n",
       "V_271    object\n",
       "V_301    object\n",
       "V_304    object\n",
       "V_316    object\n",
       "V_400    object\n",
       "V_410    object\n",
       "V_434    object\n",
       "dtype: object"
      ]
     },
     "execution_count": 220,
     "metadata": {},
     "output_type": "execute_result"
    }
   ],
   "source": [
    "df_t.dtypes[df_t.dtypes == 'object']"
   ]
  },
  {
   "cell_type": "code",
   "execution_count": 221,
   "metadata": {},
   "outputs": [],
   "source": [
    "#df.drop(\"V_434\", axis = 1, inplace= True)"
   ]
  },
  {
   "cell_type": "code",
   "execution_count": 222,
   "metadata": {},
   "outputs": [],
   "source": [
    "#df_t.drop(\"V_434\", axis = 1, inplace= True)"
   ]
  },
  {
   "cell_type": "code",
   "execution_count": 223,
   "metadata": {},
   "outputs": [
    {
     "name": "stdout",
     "output_type": "stream",
     "text": [
      "['Aerospace & Defense' 'Food & Staples Retailing'\n",
      " 'Hotels, Restaurants & Leisure' 'Commercial Banks'\n",
      " 'Industrial Conglomerates' 'Metals & Mining' 'Construction & Engineering'\n",
      " 'Diversified Financial Services' 'Airlines' 'Energy Equipment & Services'\n",
      " 'Health Care Providers & Servic' 'Universities/Colleges'\n",
      " 'Electrical Equipment' 'Auto Components' 'Household Durables'\n",
      " 'Multi-Utilities' 'Commercial Services & Supplies'\n",
      " 'Construction Materials' 'Insurance' 'Chemicals'\n",
      " 'Oil, Gas & Consumable Fuels' 'Professional Sports' 'Food Products'\n",
      " 'Beverages' 'Semiconductors & Semiconductor' 'Air Freight & Logistics'\n",
      " 'Specialty Retail' 'Road & Rail' 'Health Care Equipment & Suppli'\n",
      " 'Paper & Forest Products' 'Communications Equipment' 'Media'\n",
      " 'Pharmaceuticals' 'Multiline Retail' 'Leisure Equipment & Products'\n",
      " 'Electric Utilities' 'Building Products' 'Real Estate Management & Devel'\n",
      " 'Containers & Packaging' 'Distributors' 'Machinery' 'Household Products'\n",
      " 'Software' 'Automobiles' 'Computers & Peripherals' 'Capital Markets'\n",
      " 'Indian Bands' 'Financial (consulting/accounti'\n",
      " 'Transportation Infrastructure' 'Associations' 'Personal Products'\n",
      " 'Electronic Equipment & Instrum' 'School Boards' 'IT Services' 'Legal'\n",
      " 'Tobacco' 'Municipalities' 'Churches/Synagogues'\n",
      " 'Entertainment(Casinos,Race Tra' 'Marine'\n",
      " 'Life Sciences Tools & Services' 'Office Electronics'\n",
      " 'Internet Software & Services' 'Unions' 'Diversified Consumer Services'\n",
      " 'Not-for-profit organizations' 'Independent Power Producers &'\n",
      " 'Registered Charities' 'Religious Associations'\n",
      " 'Medical (Doctors/Dentists)' 'Wireless Telecommunication Ser'\n",
      " 'Textiles, Apparel & Luxury Goo' 'Biotechnology'\n",
      " 'Trading Companies & Distributo' 'Consumer Finance' 'Gas Utilities'\n",
      " 'Diversified Telecommunication' 'Water Utilities'\n",
      " 'Thrifts & Mortgage Finance' 'Federal' 'Health Care Technology'\n",
      " 'Real Estate Investment Trusts' 'Provincial' 'Internet & Catalog Retail'\n",
      " 'Libraries']\n"
     ]
    }
   ],
   "source": [
    "i =df.V_434.unique()\n",
    "print(i)"
   ]
  },
  {
   "cell_type": "code",
   "execution_count": 224,
   "metadata": {},
   "outputs": [
    {
     "name": "stdout",
     "output_type": "stream",
     "text": [
      "['Hotels, Restaurants & Leisure' 'Health Care Providers & Servic'\n",
      " 'Oil, Gas & Consumable Fuels' 'Media' 'Commercial Banks' 'Associations'\n",
      " 'Indian Bands' 'Pharmaceuticals' 'Computers & Peripherals'\n",
      " 'Water Utilities' 'Air Freight & Logistics' 'Automobiles'\n",
      " 'Food & Staples Retailing' 'Aerospace & Defense' 'Road & Rail'\n",
      " 'Metals & Mining' 'Internet & Catalog Retail'\n",
      " 'Energy Equipment & Services' 'Religious Associations'\n",
      " 'Commercial Services & Supplies' 'Food Products' 'Machinery'\n",
      " 'Industrial Conglomerates' 'Auto Components' 'Chemicals' 'Distributors'\n",
      " 'Construction & Engineering' 'Multiline Retail' 'Universities/Colleges'\n",
      " 'Software' 'Legal' 'Internet Software & Services'\n",
      " 'Paper & Forest Products' 'Building Products' 'Communications Equipment'\n",
      " 'Diversified Financial Services' 'Registered Charities'\n",
      " 'Leisure Equipment & Products' 'Federal' 'Personal Products' 'Insurance'\n",
      " 'Beverages' 'Construction Materials' 'Financial (consulting/accounti'\n",
      " 'Entertainment(Casinos,Race Tra' 'Health Care Equipment & Suppli'\n",
      " 'Electrical Equipment' 'Electronic Equipment & Instrum'\n",
      " 'Not-for-profit organizations' 'Unions' 'Independent Power Producers &'\n",
      " 'Containers & Packaging' 'Airlines' 'Transportation Infrastructure'\n",
      " 'Churches/Synagogues' 'Electric Utilities' 'Household Products'\n",
      " 'IT Services' 'Professional Sports' 'Textiles, Apparel & Luxury Goo'\n",
      " 'Biotechnology' 'Diversified Consumer Services'\n",
      " 'Trading Companies & Distributo' 'Consumer Finance' 'Multi-Utilities'\n",
      " 'Municipalities' 'Semiconductors & Semiconductor' 'Specialty Retail'\n",
      " 'Real Estate Management & Devel' 'Marine' 'Office Electronics'\n",
      " 'Household Durables' 'Tobacco' 'School Boards' 'Capital Markets'\n",
      " 'Thrifts & Mortgage Finance' 'Diversified Telecommunication' 'Libraries'\n",
      " 'Life Sciences Tools & Services' 'Medical (Doctors/Dentists)'\n",
      " 'Health Care Technology' 'Wireless Telecommunication Ser' 'Gas Utilities'\n",
      " 'Provincial']\n"
     ]
    }
   ],
   "source": [
    "j = df_t.V_434.unique()\n",
    "print(j)"
   ]
  },
  {
   "cell_type": "code",
   "execution_count": 225,
   "metadata": {},
   "outputs": [
    {
     "name": "stdout",
     "output_type": "stream",
     "text": [
      "['Real Estate Investment Trusts']\n"
     ]
    }
   ],
   "source": [
    "l = []\n",
    "for item in i:\n",
    "    if item not in j:\n",
    "        l.append(item)\n",
    "print(l)"
   ]
  },
  {
   "cell_type": "code",
   "execution_count": 226,
   "metadata": {},
   "outputs": [
    {
     "data": {
      "text/html": [
       "<div>\n",
       "<style scoped>\n",
       "    .dataframe tbody tr th:only-of-type {\n",
       "        vertical-align: middle;\n",
       "    }\n",
       "\n",
       "    .dataframe tbody tr th {\n",
       "        vertical-align: top;\n",
       "    }\n",
       "\n",
       "    .dataframe thead th {\n",
       "        text-align: right;\n",
       "    }\n",
       "</style>\n",
       "<table border=\"1\" class=\"dataframe\">\n",
       "  <thead>\n",
       "    <tr style=\"text-align: right;\">\n",
       "      <th></th>\n",
       "      <th>id</th>\n",
       "      <th>V_1</th>\n",
       "      <th>V_2</th>\n",
       "      <th>V_3</th>\n",
       "      <th>V_4</th>\n",
       "      <th>V_5</th>\n",
       "      <th>V_6</th>\n",
       "      <th>V_7</th>\n",
       "      <th>V_8</th>\n",
       "      <th>V_9</th>\n",
       "      <th>...</th>\n",
       "      <th>V_474</th>\n",
       "      <th>V_475</th>\n",
       "      <th>V_476</th>\n",
       "      <th>V_477</th>\n",
       "      <th>V_478</th>\n",
       "      <th>V_479</th>\n",
       "      <th>V_480</th>\n",
       "      <th>V_481</th>\n",
       "      <th>V_482</th>\n",
       "      <th>TARGET</th>\n",
       "    </tr>\n",
       "  </thead>\n",
       "  <tbody>\n",
       "    <tr>\n",
       "      <th>5930</th>\n",
       "      <td>5930</td>\n",
       "      <td>0</td>\n",
       "      <td>0</td>\n",
       "      <td>0</td>\n",
       "      <td>0</td>\n",
       "      <td>5</td>\n",
       "      <td>0</td>\n",
       "      <td>0</td>\n",
       "      <td>0</td>\n",
       "      <td>0</td>\n",
       "      <td>...</td>\n",
       "      <td>0</td>\n",
       "      <td>0</td>\n",
       "      <td>0</td>\n",
       "      <td>0</td>\n",
       "      <td>1</td>\n",
       "      <td>0</td>\n",
       "      <td>0.0</td>\n",
       "      <td>0.0</td>\n",
       "      <td>0.0</td>\n",
       "      <td>0</td>\n",
       "    </tr>\n",
       "    <tr>\n",
       "      <th>98717</th>\n",
       "      <td>98717</td>\n",
       "      <td>0</td>\n",
       "      <td>0</td>\n",
       "      <td>0</td>\n",
       "      <td>0</td>\n",
       "      <td>3</td>\n",
       "      <td>0</td>\n",
       "      <td>0</td>\n",
       "      <td>0</td>\n",
       "      <td>0</td>\n",
       "      <td>...</td>\n",
       "      <td>0</td>\n",
       "      <td>0</td>\n",
       "      <td>0</td>\n",
       "      <td>0</td>\n",
       "      <td>1</td>\n",
       "      <td>0</td>\n",
       "      <td>0.0</td>\n",
       "      <td>0.0</td>\n",
       "      <td>0.0</td>\n",
       "      <td>1</td>\n",
       "    </tr>\n",
       "  </tbody>\n",
       "</table>\n",
       "<p>2 rows × 482 columns</p>\n",
       "</div>"
      ],
      "text/plain": [
       "          id  V_1  V_2  V_3  V_4  V_5  V_6  V_7  V_8  V_9  ...  V_474  V_475  \\\n",
       "5930    5930    0    0    0    0    5    0    0    0    0  ...      0      0   \n",
       "98717  98717    0    0    0    0    3    0    0    0    0  ...      0      0   \n",
       "\n",
       "       V_476  V_477  V_478  V_479  V_480  V_481  V_482  TARGET  \n",
       "5930       0      0      1      0    0.0    0.0    0.0       0  \n",
       "98717      0      0      1      0    0.0    0.0    0.0       1  \n",
       "\n",
       "[2 rows x 482 columns]"
      ]
     },
     "execution_count": 226,
     "metadata": {},
     "output_type": "execute_result"
    }
   ],
   "source": [
    "df[df[\"V_434\"] == 'Real Estate Investment Trusts']"
   ]
  },
  {
   "cell_type": "code",
   "execution_count": 227,
   "metadata": {},
   "outputs": [],
   "source": [
    "df.drop([5930, 98717], axis=0, inplace=True)"
   ]
  },
  {
   "cell_type": "code",
   "execution_count": 228,
   "metadata": {},
   "outputs": [],
   "source": [
    "obj = [\"V_245\", \"V_271\", \"V_301\", \"V_304\", \"V_316\", \"V_400\", \"V_410\", \"V_434\"]"
   ]
  },
  {
   "cell_type": "code",
   "execution_count": 229,
   "metadata": {},
   "outputs": [
    {
     "data": {
      "text/plain": [
       "Commercial Banks                  13321\n",
       "Oil, Gas & Consumable Fuels        6332\n",
       "Metals & Mining                    5528\n",
       "Diversified Financial Services     4353\n",
       "Multiline Retail                   3591\n",
       "                                  ...  \n",
       "Water Utilities                      13\n",
       "Health Care Technology                4\n",
       "Provincial                            3\n",
       "Internet & Catalog Retail             2\n",
       "Libraries                             1\n",
       "Name: V_434, Length: 84, dtype: int64"
      ]
     },
     "execution_count": 229,
     "metadata": {},
     "output_type": "execute_result"
    }
   ],
   "source": [
    "df.V_434.value_counts()"
   ]
  },
  {
   "cell_type": "code",
   "execution_count": 230,
   "metadata": {},
   "outputs": [
    {
     "data": {
      "text/plain": [
       "Commercial Banks                  14806\n",
       "Oil, Gas & Consumable Fuels        7035\n",
       "Metals & Mining                    6009\n",
       "Diversified Financial Services     4757\n",
       "Multiline Retail                   4155\n",
       "                                  ...  \n",
       "Water Utilities                      11\n",
       "Internet & Catalog Retail             5\n",
       "Libraries                             5\n",
       "Provincial                            4\n",
       "Health Care Technology                3\n",
       "Name: V_434, Length: 84, dtype: int64"
      ]
     },
     "execution_count": 230,
     "metadata": {},
     "output_type": "execute_result"
    }
   ],
   "source": [
    "df_t.V_434.value_counts()"
   ]
  },
  {
   "cell_type": "code",
   "execution_count": 231,
   "metadata": {},
   "outputs": [],
   "source": [
    "from sklearn.preprocessing import OneHotEncoder\n",
    "from sklearn.compose import make_column_transformer\n",
    "from sklearn.compose import ColumnTransformer\n",
    "\n",
    "ct = ColumnTransformer([('enc', OneHotEncoder(categories='auto',handle_unknown='ignore'), obj)], remainder= 'passthrough')\n",
    "\n",
    "xt = ct.fit_transform(df[obj]).toarray()\n",
    "\n",
    "df_encd = pd.DataFrame(xt, index= df.index)\n",
    "df_other_cols = df.drop(columns= obj)\n",
    "df_n = pd.concat([df_other_cols, df_encd], axis= 1)"
   ]
  },
  {
   "cell_type": "code",
   "execution_count": 232,
   "metadata": {},
   "outputs": [],
   "source": [
    "#df_n = pd.get_dummies(df, columns= obj)"
   ]
  },
  {
   "cell_type": "code",
   "execution_count": 233,
   "metadata": {},
   "outputs": [
    {
     "data": {
      "text/plain": [
       "(100022, 592)"
      ]
     },
     "execution_count": 233,
     "metadata": {},
     "output_type": "execute_result"
    }
   ],
   "source": [
    "df_n.shape"
   ]
  },
  {
   "cell_type": "code",
   "execution_count": 234,
   "metadata": {},
   "outputs": [],
   "source": [
    "xt_t = ct.fit_transform(df_t[obj]).toarray()\n",
    "\n",
    "df_encd_t = pd.DataFrame(xt_t, index= df_t.index)\n",
    "df_other_cols_t = df_t.drop(columns= obj)\n",
    "df_tn = pd.concat([df_other_cols_t, df_encd_t], axis= 1)"
   ]
  },
  {
   "cell_type": "code",
   "execution_count": 235,
   "metadata": {},
   "outputs": [],
   "source": [
    "#df_tn = pd.get_dummies(df_t, columns = obj)"
   ]
  },
  {
   "cell_type": "code",
   "execution_count": 236,
   "metadata": {},
   "outputs": [
    {
     "data": {
      "text/plain": [
       "(110899, 591)"
      ]
     },
     "execution_count": 236,
     "metadata": {},
     "output_type": "execute_result"
    }
   ],
   "source": [
    "df_tn.shape"
   ]
  },
  {
   "cell_type": "code",
   "execution_count": 237,
   "metadata": {},
   "outputs": [],
   "source": [
    "from sklearn.model_selection import train_test_split"
   ]
  },
  {
   "cell_type": "code",
   "execution_count": 238,
   "metadata": {},
   "outputs": [],
   "source": [
    "y = df_n.TARGET\n",
    "X = df_n.drop([\"TARGET\"], axis =1)"
   ]
  },
  {
   "cell_type": "code",
   "execution_count": 239,
   "metadata": {},
   "outputs": [],
   "source": [
    "X_train, X_test, y_train, y_test =  train_test_split(X, y, test_size= 0.5, random_state= 42)"
   ]
  },
  {
   "cell_type": "code",
   "execution_count": 240,
   "metadata": {},
   "outputs": [],
   "source": [
    "from sklearn.metrics import classification_report"
   ]
  },
  {
   "cell_type": "code",
   "execution_count": 241,
   "metadata": {},
   "outputs": [],
   "source": [
    "from sklearn.metrics import f1_score\n",
    "def score(model, title = \"Default\"):\n",
    "    model.fit(X_train, y_train)\n",
    "    preds = model.predict(X_test)\n",
    "    print(f1_score(y_test, preds, average= \"macro\"))"
   ]
  },
  {
   "cell_type": "code",
   "execution_count": 242,
   "metadata": {},
   "outputs": [],
   "source": [
    "from sklearn.linear_model import LogisticRegression\n",
    "log = LogisticRegression()\n",
    "#score(log, \"Logistic Regression\")"
   ]
  },
  {
   "cell_type": "code",
   "execution_count": 243,
   "metadata": {},
   "outputs": [],
   "source": [
    "from sklearn.tree import DecisionTreeClassifier\n",
    "dt = DecisionTreeClassifier()\n",
    "#score(dt, \"Decision Tree\")"
   ]
  },
  {
   "cell_type": "code",
   "execution_count": 244,
   "metadata": {},
   "outputs": [],
   "source": [
    "from sklearn.ensemble import RandomForestClassifier\n",
    "rf = RandomForestClassifier(random_state=0)\n",
    "#score(rf, \"Random Forest\")"
   ]
  },
  {
   "cell_type": "code",
   "execution_count": 245,
   "metadata": {},
   "outputs": [],
   "source": [
    "from sklearn.neighbors import KNeighborsClassifier\n",
    "knn = KNeighborsClassifier(n_neighbors= 5, metric = 'minkowski', p =2)\n",
    "#score(knn, \"KNeighbors\")"
   ]
  },
  {
   "cell_type": "code",
   "execution_count": 246,
   "metadata": {},
   "outputs": [],
   "source": [
    "from sklearn.naive_bayes import GaussianNB\n",
    "g = GaussianNB()\n",
    "#score(g, \"Gausian\")"
   ]
  },
  {
   "cell_type": "code",
   "execution_count": 247,
   "metadata": {},
   "outputs": [],
   "source": [
    "from sklearn.ensemble import GradientBoostingClassifier\n",
    "gbc = GradientBoostingClassifier()\n",
    "#score(gbc, \"Gradient Boosting\")"
   ]
  },
  {
   "cell_type": "code",
   "execution_count": 248,
   "metadata": {},
   "outputs": [],
   "source": [
    "from sklearn.ensemble import HistGradientBoostingClassifier\n",
    "hgbc = HistGradientBoostingClassifier()\n",
    "#score(hgbc, \"Histogram Gradient Boosting\")"
   ]
  },
  {
   "cell_type": "code",
   "execution_count": 249,
   "metadata": {},
   "outputs": [],
   "source": [
    "from xgboost import XGBClassifier\n",
    "xgb = XGBClassifier()\n",
    "#score(xgb, \"XGBoost\")"
   ]
  },
  {
   "cell_type": "code",
   "execution_count": 250,
   "metadata": {},
   "outputs": [],
   "source": [
    "from catboost import CatBoostClassifier\n",
    "#catb = CatBoostClassifier(verbose= 0, n_estimators= 100)\n",
    "#score(catb, \"CatBoost\")"
   ]
  },
  {
   "cell_type": "code",
   "execution_count": 251,
   "metadata": {},
   "outputs": [],
   "source": [
    "#target = catb.predict(df_tn)\n",
    "d = pd.DataFrame(target)\n",
    "d.index = df_tn.id\n",
    "d.columns = ['TARGET']\n",
    "d.to_csv('submission_final.csv', index= True)"
   ]
  },
  {
   "cell_type": "code",
   "execution_count": 252,
   "metadata": {},
   "outputs": [
    {
     "data": {
      "text/html": [
       "<div>\n",
       "<style scoped>\n",
       "    .dataframe tbody tr th:only-of-type {\n",
       "        vertical-align: middle;\n",
       "    }\n",
       "\n",
       "    .dataframe tbody tr th {\n",
       "        vertical-align: top;\n",
       "    }\n",
       "\n",
       "    .dataframe thead th {\n",
       "        text-align: right;\n",
       "    }\n",
       "</style>\n",
       "<table border=\"1\" class=\"dataframe\">\n",
       "  <thead>\n",
       "    <tr style=\"text-align: right;\">\n",
       "      <th></th>\n",
       "      <th>TARGET</th>\n",
       "    </tr>\n",
       "    <tr>\n",
       "      <th>id</th>\n",
       "      <th></th>\n",
       "    </tr>\n",
       "  </thead>\n",
       "  <tbody>\n",
       "    <tr>\n",
       "      <th>0</th>\n",
       "      <td>0</td>\n",
       "    </tr>\n",
       "    <tr>\n",
       "      <th>1</th>\n",
       "      <td>0</td>\n",
       "    </tr>\n",
       "    <tr>\n",
       "      <th>2</th>\n",
       "      <td>0</td>\n",
       "    </tr>\n",
       "    <tr>\n",
       "      <th>3</th>\n",
       "      <td>0</td>\n",
       "    </tr>\n",
       "    <tr>\n",
       "      <th>4</th>\n",
       "      <td>0</td>\n",
       "    </tr>\n",
       "  </tbody>\n",
       "</table>\n",
       "</div>"
      ],
      "text/plain": [
       "    TARGET\n",
       "id        \n",
       "0        0\n",
       "1        0\n",
       "2        0\n",
       "3        0\n",
       "4        0"
      ]
     },
     "execution_count": 252,
     "metadata": {},
     "output_type": "execute_result"
    }
   ],
   "source": [
    "d.head()"
   ]
  },
  {
   "cell_type": "code",
   "execution_count": null,
   "metadata": {},
   "outputs": [],
   "source": []
  }
 ],
 "metadata": {
  "kernelspec": {
   "display_name": "Python 3.9.12 ('datascience')",
   "language": "python",
   "name": "python3"
  },
  "language_info": {
   "codemirror_mode": {
    "name": "ipython",
    "version": 3
   },
   "file_extension": ".py",
   "mimetype": "text/x-python",
   "name": "python",
   "nbconvert_exporter": "python",
   "pygments_lexer": "ipython3",
   "version": "3.9.12"
  },
  "orig_nbformat": 4,
  "vscode": {
   "interpreter": {
    "hash": "2b95d1d26a7c151409d3838b561334334add08b8c47c80f91b49b2addd682c6f"
   }
  }
 },
 "nbformat": 4,
 "nbformat_minor": 2
}
